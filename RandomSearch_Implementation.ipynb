{
 "cells": [
  {
   "cell_type": "code",
   "execution_count": 1,
   "metadata": {
    "colab": {},
    "colab_type": "code",
    "id": "2pUQJ7eKm6R-"
   },
   "outputs": [],
   "source": [
    "import numpy as np\n",
    "import pandas as pd\n",
    "import time\n",
    "import warnings\n",
    "from sklearn import metrics, preprocessing, tree\n",
    "from sklearn.metrics import f1_score, make_scorer\n",
    "from sklearn.model_selection import cross_val_score\n",
    "from sklearn.model_selection import GridSearchCV, RandomizedSearchCV\n",
    "from sklearn.model_selection import train_test_split\n",
    "import matplotlib.pyplot as plt\n",
    "%matplotlib inline \n",
    "np.random.seed(8)\n",
    "warnings.filterwarnings(\"ignore\")"
   ]
  },
  {
   "cell_type": "code",
   "execution_count": 2,
   "metadata": {},
   "outputs": [],
   "source": [
    "def timeit(method):\n",
    "    def timed(*args, **kw):\n",
    "        ts = time.time()\n",
    "        result = method(*args, **kw)\n",
    "        te = time.time()\n",
    "        if 'log_time' in kw:\n",
    "            name = kw.get('log_name', method.__name__.upper())\n",
    "            kw['log_time'][name] = int((te - ts) * 1000)\n",
    "        else:\n",
    "            print('%r  %2.2f ms' % \\\n",
    "                  (method.__name__, (te - ts) * 1000))\n",
    "        return result\n",
    "    return timed"
   ]
  },
  {
   "cell_type": "code",
   "execution_count": 3,
   "metadata": {
    "colab": {},
    "colab_type": "code",
    "id": "fNF0YAqgnPWq"
   },
   "outputs": [],
   "source": [
    "file_loc = 'loan_prediction.csv'"
   ]
  },
  {
   "cell_type": "code",
   "execution_count": 4,
   "metadata": {
    "colab": {},
    "colab_type": "code",
    "id": "CHv4QgwXnm4y"
   },
   "outputs": [],
   "source": [
    "df = pd.read_csv(file_loc)"
   ]
  },
  {
   "cell_type": "code",
   "execution_count": 5,
   "metadata": {
    "colab": {
     "base_uri": "https://localhost:8080/",
     "height": 194
    },
    "colab_type": "code",
    "id": "Ut0BYeQqnsgp",
    "outputId": "5f972a1d-ce85-46e1-e5db-b1e8b322ec5f"
   },
   "outputs": [
    {
     "data": {
      "text/html": [
       "<div>\n",
       "<style scoped>\n",
       "    .dataframe tbody tr th:only-of-type {\n",
       "        vertical-align: middle;\n",
       "    }\n",
       "\n",
       "    .dataframe tbody tr th {\n",
       "        vertical-align: top;\n",
       "    }\n",
       "\n",
       "    .dataframe thead th {\n",
       "        text-align: right;\n",
       "    }\n",
       "</style>\n",
       "<table border=\"1\" class=\"dataframe\">\n",
       "  <thead>\n",
       "    <tr style=\"text-align: right;\">\n",
       "      <th></th>\n",
       "      <th>ApplicantIncome</th>\n",
       "      <th>CoapplicantIncome</th>\n",
       "      <th>LoanAmount</th>\n",
       "      <th>Loan_Amount_Term</th>\n",
       "      <th>Credit_History</th>\n",
       "      <th>Loan_Status</th>\n",
       "    </tr>\n",
       "  </thead>\n",
       "  <tbody>\n",
       "    <tr>\n",
       "      <th>0</th>\n",
       "      <td>5849</td>\n",
       "      <td>0.0</td>\n",
       "      <td>0.0</td>\n",
       "      <td>360.0</td>\n",
       "      <td>1.0</td>\n",
       "      <td>1</td>\n",
       "    </tr>\n",
       "    <tr>\n",
       "      <th>1</th>\n",
       "      <td>4583</td>\n",
       "      <td>1508.0</td>\n",
       "      <td>128.0</td>\n",
       "      <td>360.0</td>\n",
       "      <td>1.0</td>\n",
       "      <td>0</td>\n",
       "    </tr>\n",
       "    <tr>\n",
       "      <th>2</th>\n",
       "      <td>3000</td>\n",
       "      <td>0.0</td>\n",
       "      <td>66.0</td>\n",
       "      <td>360.0</td>\n",
       "      <td>1.0</td>\n",
       "      <td>1</td>\n",
       "    </tr>\n",
       "    <tr>\n",
       "      <th>3</th>\n",
       "      <td>2583</td>\n",
       "      <td>2358.0</td>\n",
       "      <td>120.0</td>\n",
       "      <td>360.0</td>\n",
       "      <td>1.0</td>\n",
       "      <td>1</td>\n",
       "    </tr>\n",
       "    <tr>\n",
       "      <th>4</th>\n",
       "      <td>6000</td>\n",
       "      <td>0.0</td>\n",
       "      <td>141.0</td>\n",
       "      <td>360.0</td>\n",
       "      <td>1.0</td>\n",
       "      <td>1</td>\n",
       "    </tr>\n",
       "  </tbody>\n",
       "</table>\n",
       "</div>"
      ],
      "text/plain": [
       "   ApplicantIncome  CoapplicantIncome  LoanAmount  Loan_Amount_Term  \\\n",
       "0             5849                0.0         0.0             360.0   \n",
       "1             4583             1508.0       128.0             360.0   \n",
       "2             3000                0.0        66.0             360.0   \n",
       "3             2583             2358.0       120.0             360.0   \n",
       "4             6000                0.0       141.0             360.0   \n",
       "\n",
       "   Credit_History  Loan_Status  \n",
       "0             1.0            1  \n",
       "1             1.0            0  \n",
       "2             1.0            1  \n",
       "3             1.0            1  \n",
       "4             1.0            1  "
      ]
     },
     "execution_count": 5,
     "metadata": {},
     "output_type": "execute_result"
    }
   ],
   "source": [
    "df.head()"
   ]
  },
  {
   "cell_type": "code",
   "execution_count": 6,
   "metadata": {
    "colab": {
     "base_uri": "https://localhost:8080/",
     "height": 35
    },
    "colab_type": "code",
    "id": "ly5b9oA3nt5L",
    "outputId": "3c8a8aa2-95b9-4844-b818-62eef17c599d"
   },
   "outputs": [
    {
     "data": {
      "text/plain": [
       "(614, 6)"
      ]
     },
     "execution_count": 6,
     "metadata": {},
     "output_type": "execute_result"
    }
   ],
   "source": [
    "df.shape"
   ]
  },
  {
   "cell_type": "code",
   "execution_count": 7,
   "metadata": {
    "colab": {},
    "colab_type": "code",
    "id": "5hTYkFPYnwfS"
   },
   "outputs": [],
   "source": [
    "from sklearn.tree import DecisionTreeClassifier as dt\n",
    "clf = dt()"
   ]
  },
  {
   "cell_type": "code",
   "execution_count": 8,
   "metadata": {
    "colab": {
     "base_uri": "https://localhost:8080/",
     "height": 124
    },
    "colab_type": "code",
    "id": "Ty5olD4covtj",
    "outputId": "f58ecbe4-cba2-4fd5-dba7-39ae4fe13034"
   },
   "outputs": [
    {
     "data": {
      "text/plain": [
       "DecisionTreeClassifier(class_weight=None, criterion='gini', max_depth=None,\n",
       "            max_features=None, max_leaf_nodes=None,\n",
       "            min_impurity_decrease=0.0, min_impurity_split=None,\n",
       "            min_samples_leaf=1, min_samples_split=2,\n",
       "            min_weight_fraction_leaf=0.0, presort=False, random_state=None,\n",
       "            splitter='best')"
      ]
     },
     "execution_count": 8,
     "metadata": {},
     "output_type": "execute_result"
    }
   ],
   "source": [
    "clf"
   ]
  },
  {
   "cell_type": "code",
   "execution_count": 9,
   "metadata": {
    "colab": {},
    "colab_type": "code",
    "id": "uYONm2nZowx5"
   },
   "outputs": [],
   "source": [
    "X = df.iloc[:,0:len(df.columns)-1].values\n",
    "Y = df.iloc[:,-1].values"
   ]
  },
  {
   "cell_type": "code",
   "execution_count": 10,
   "metadata": {
    "colab": {
     "base_uri": "https://localhost:8080/",
     "height": 35
    },
    "colab_type": "code",
    "id": "-4UBlI4upeyT",
    "outputId": "d89e12fe-9539-408c-ed43-45d79c3a2ea9"
   },
   "outputs": [
    {
     "data": {
      "text/plain": [
       "(614, 5)"
      ]
     },
     "execution_count": 10,
     "metadata": {},
     "output_type": "execute_result"
    }
   ],
   "source": [
    "X.shape"
   ]
  },
  {
   "cell_type": "code",
   "execution_count": 11,
   "metadata": {
    "colab": {
     "base_uri": "https://localhost:8080/",
     "height": 35
    },
    "colab_type": "code",
    "id": "EAvDBHMZpf0F",
    "outputId": "d06c19e9-4406-4899-e784-87882a38f548"
   },
   "outputs": [
    {
     "data": {
      "text/plain": [
       "(614,)"
      ]
     },
     "execution_count": 11,
     "metadata": {},
     "output_type": "execute_result"
    }
   ],
   "source": [
    "Y.shape"
   ]
  },
  {
   "cell_type": "code",
   "execution_count": 12,
   "metadata": {
    "colab": {},
    "colab_type": "code",
    "id": "tahP4zWqpmGe"
   },
   "outputs": [],
   "source": [
    "X_train,X_test,Y_train,Y_test = train_test_split(X, Y, test_size=0.25, random_state=0)"
   ]
  },
  {
   "cell_type": "code",
   "execution_count": 13,
   "metadata": {
    "colab": {
     "base_uri": "https://localhost:8080/",
     "height": 35
    },
    "colab_type": "code",
    "id": "TcqCxF_4p-Sk",
    "outputId": "afab691d-5985-4d88-df8f-aaa58fb90684"
   },
   "outputs": [
    {
     "data": {
      "text/plain": [
       "(460, 5)"
      ]
     },
     "execution_count": 13,
     "metadata": {},
     "output_type": "execute_result"
    }
   ],
   "source": [
    "X_train.shape"
   ]
  },
  {
   "cell_type": "code",
   "execution_count": 14,
   "metadata": {
    "colab": {
     "base_uri": "https://localhost:8080/",
     "height": 35
    },
    "colab_type": "code",
    "id": "77i5o5GxqE0q",
    "outputId": "2116d0ad-a085-449a-cef5-0bb9633b6fc6"
   },
   "outputs": [
    {
     "data": {
      "text/plain": [
       "(154, 5)"
      ]
     },
     "execution_count": 14,
     "metadata": {},
     "output_type": "execute_result"
    }
   ],
   "source": [
    "X_test.shape"
   ]
  },
  {
   "cell_type": "code",
   "execution_count": 15,
   "metadata": {
    "colab": {},
    "colab_type": "code",
    "id": "WMlZ-43BNOWe"
   },
   "outputs": [],
   "source": [
    "scores = cross_val_score(clf, X_train, Y_train, cv=5, scoring='f1_macro')"
   ]
  },
  {
   "cell_type": "code",
   "execution_count": 16,
   "metadata": {
    "colab": {
     "base_uri": "https://localhost:8080/",
     "height": 35
    },
    "colab_type": "code",
    "id": "ijQr7U27NaUw",
    "outputId": "4de97b19-cd48-45f6-f708-9d1f9e1696c6"
   },
   "outputs": [
    {
     "data": {
      "text/plain": [
       "0.6209672366900477"
      ]
     },
     "execution_count": 16,
     "metadata": {},
     "output_type": "execute_result"
    }
   ],
   "source": [
    "scores.mean()"
   ]
  },
  {
   "cell_type": "code",
   "execution_count": 17,
   "metadata": {
    "colab": {},
    "colab_type": "code",
    "id": "uD7JPq1cr9PT"
   },
   "outputs": [],
   "source": [
    "# Fit the model\n",
    "clf.fit(X_train, Y_train)\n",
    "# Make predictions\n",
    "train_predictions = clf.predict(X_train)\n",
    "test_predictions = clf.predict(X_test)"
   ]
  },
  {
   "cell_type": "code",
   "execution_count": 18,
   "metadata": {
    "colab": {
     "base_uri": "https://localhost:8080/",
     "height": 124
    },
    "colab_type": "code",
    "id": "VuEXctEAnpcJ",
    "outputId": "792f4e62-c9f7-49e0-b4b4-7bddbecb0ce0"
   },
   "outputs": [
    {
     "data": {
      "text/plain": [
       "DecisionTreeClassifier(class_weight=None, criterion='gini', max_depth=None,\n",
       "            max_features=None, max_leaf_nodes=None,\n",
       "            min_impurity_decrease=0.0, min_impurity_split=None,\n",
       "            min_samples_leaf=1, min_samples_split=2,\n",
       "            min_weight_fraction_leaf=0.0, presort=False, random_state=None,\n",
       "            splitter='best')"
      ]
     },
     "execution_count": 18,
     "metadata": {},
     "output_type": "execute_result"
    }
   ],
   "source": [
    "clf"
   ]
  },
  {
   "cell_type": "code",
   "execution_count": 19,
   "metadata": {
    "colab": {},
    "colab_type": "code",
    "id": "K4bttY2_n6t1"
   },
   "outputs": [],
   "source": [
    "train_cols = df.columns[0:len(df.columns)-1]"
   ]
  },
  {
   "cell_type": "code",
   "execution_count": 20,
   "metadata": {
    "colab": {},
    "colab_type": "code",
    "id": "S2Xoqz7JphCp"
   },
   "outputs": [],
   "source": [
    "target_cols = df.columns[-1]"
   ]
  },
  {
   "cell_type": "code",
   "execution_count": 21,
   "metadata": {
    "colab": {
     "base_uri": "https://localhost:8080/",
     "height": 52
    },
    "colab_type": "code",
    "id": "NMkq20vyuXgy",
    "outputId": "d726bb71-a7ae-412d-f56c-cb529f24c663"
   },
   "outputs": [
    {
     "name": "stdout",
     "output_type": "stream",
     "text": [
      "The Training F1 Score is 1.0\n",
      "The Testing F1 Score is 0.7373271889400921\n"
     ]
    }
   ],
   "source": [
    "print('The Training F1 Score is', f1_score(train_predictions, Y_train))\n",
    "print('The Testing F1 Score is', f1_score(test_predictions, Y_test))"
   ]
  },
  {
   "cell_type": "code",
   "execution_count": 22,
   "metadata": {
    "colab": {},
    "colab_type": "code",
    "id": "6psUzbuoufRo"
   },
   "outputs": [],
   "source": [
    "parameters = {'max_depth':[1,2,3,4,5], \n",
    "              'min_samples_leaf':[1,2,3,4,5], \n",
    "              'min_samples_split':[2,3,4,5],\n",
    "              'criterion' : ['gini','entropy']}\n",
    "scorer = make_scorer(f1_score)"
   ]
  },
  {
   "cell_type": "code",
   "execution_count": 23,
   "metadata": {},
   "outputs": [],
   "source": [
    "@timeit\n",
    "def generate_clf_from_search(grid_or_random, clf, parameters, scorer, X, y):\n",
    "    if grid_or_random == \"Grid\":\n",
    "        search_obj = GridSearchCV(clf, parameters, scoring=scorer)\n",
    "    elif grid_or_random == \"Random\":\n",
    "        search_obj = RandomizedSearchCV(clf, parameters, scoring=scorer)\n",
    "    fit_obj = search_obj.fit(X, y)\n",
    "    best_clf = fit_obj.best_estimator_\n",
    "    return best_clf, search_obj, fit_obj"
   ]
  },
  {
   "cell_type": "code",
   "execution_count": 24,
   "metadata": {},
   "outputs": [
    {
     "name": "stdout",
     "output_type": "stream",
     "text": [
      "'generate_clf_from_search'  1269.02 ms\n"
     ]
    }
   ],
   "source": [
    "best_clf_grid, search,fit = generate_clf_from_search(\"Grid\", \n",
    "                                         clf, \n",
    "                                         parameters, \n",
    "                                         scorer, \n",
    "                                         X_train, \n",
    "                                         Y_train)"
   ]
  },
  {
   "cell_type": "code",
   "execution_count": 25,
   "metadata": {},
   "outputs": [
    {
     "data": {
      "text/plain": [
       "{'criterion': 'gini',\n",
       " 'max_depth': 1,\n",
       " 'min_samples_leaf': 1,\n",
       " 'min_samples_split': 2}"
      ]
     },
     "execution_count": 25,
     "metadata": {},
     "output_type": "execute_result"
    }
   ],
   "source": [
    "fit.cv_results_['params'][0]"
   ]
  },
  {
   "cell_type": "code",
   "execution_count": 26,
   "metadata": {},
   "outputs": [
    {
     "data": {
      "text/plain": [
       "0.8356047177376769"
      ]
     },
     "execution_count": 26,
     "metadata": {},
     "output_type": "execute_result"
    }
   ],
   "source": [
    "fit.cv_results_['mean_test_score'][0]"
   ]
  },
  {
   "cell_type": "code",
   "execution_count": 27,
   "metadata": {},
   "outputs": [
    {
     "data": {
      "text/plain": [
       "200"
      ]
     },
     "execution_count": 27,
     "metadata": {},
     "output_type": "execute_result"
    }
   ],
   "source": [
    "len(fit.cv_results_['mean_test_score'])"
   ]
  },
  {
   "cell_type": "code",
   "execution_count": 28,
   "metadata": {},
   "outputs": [],
   "source": [
    "out_f1_values = fit.cv_results_['mean_test_score']"
   ]
  },
  {
   "cell_type": "code",
   "execution_count": 29,
   "metadata": {},
   "outputs": [],
   "source": [
    "out_f1_values.sort()"
   ]
  },
  {
   "cell_type": "code",
   "execution_count": 30,
   "metadata": {},
   "outputs": [
    {
     "data": {
      "text/plain": [
       "array([0.78865938, 0.78865938, 0.79070395, 0.79070395, 0.79070395,\n",
       "       0.79070395, 0.79138203, 0.79143524, 0.7923002 , 0.79568841,\n",
       "       0.7962276 , 0.79679979, 0.79716658, 0.79731269, 0.79731269,\n",
       "       0.79860787, 0.79932021, 0.79932021, 0.80022053, 0.8012156 ,\n",
       "       0.80507363, 0.80507363, 0.80507363, 0.80507363, 0.80671708,\n",
       "       0.80739729, 0.80739729, 0.80749613, 0.80750988, 0.80869565,\n",
       "       0.80869565, 0.80869565, 0.80967395, 0.80967395, 0.80967395,\n",
       "       0.80990968, 0.80990968, 0.81048593, 0.81048593, 0.8105899 ,\n",
       "       0.8105899 , 0.81094531, 0.81177273, 0.81177273, 0.81181327,\n",
       "       0.81181327, 0.81181327, 0.81181327, 0.81246582, 0.81246582,\n",
       "       0.81253712, 0.81253712, 0.81253712, 0.81253712, 0.81260059,\n",
       "       0.81260059, 0.81260059, 0.81260059, 0.81310697, 0.81310697,\n",
       "       0.81310697, 0.81319416, 0.81319416, 0.81365949, 0.81365949,\n",
       "       0.81365949, 0.81383531, 0.81436147, 0.81436147, 0.81436147,\n",
       "       0.81436147, 0.81622428, 0.81622428, 0.81622428, 0.81622428,\n",
       "       0.81744042, 0.81976757, 0.81976757, 0.81976757, 0.81976757,\n",
       "       0.81976757, 0.81976757, 0.81976757, 0.81976757, 0.81986483,\n",
       "       0.81986483, 0.81986483, 0.81986483, 0.824117  , 0.82482412,\n",
       "       0.82490084, 0.82490084, 0.82490084, 0.82490084, 0.82560797,\n",
       "       0.82560797, 0.82560797, 0.82560797, 0.82560797, 0.82560797,\n",
       "       0.82582674, 0.82582674, 0.82653386, 0.82653386, 0.82699635,\n",
       "       0.82721967, 0.82800352, 0.82800352, 0.82800352, 0.82800352,\n",
       "       0.82800352, 0.82800352, 0.82823829, 0.82823829, 0.82823829,\n",
       "       0.82823829, 0.82823829, 0.82823829, 0.82823829, 0.82847058,\n",
       "       0.83266044, 0.83266044, 0.83266044, 0.83266044, 0.83390239,\n",
       "       0.83390239, 0.83390239, 0.83390239, 0.83390239, 0.83390239,\n",
       "       0.83390239, 0.83390239, 0.83390239, 0.83390239, 0.83390239,\n",
       "       0.83390239, 0.83390239, 0.83390239, 0.83390239, 0.83390239,\n",
       "       0.83390239, 0.83390239, 0.83390239, 0.83390239, 0.83390239,\n",
       "       0.83390239, 0.83390239, 0.83390239, 0.83390239, 0.83390239,\n",
       "       0.83390239, 0.83390239, 0.83390239, 0.83390239, 0.83390239,\n",
       "       0.83390239, 0.83390239, 0.83390239, 0.83390239, 0.83390239,\n",
       "       0.83560472, 0.83560472, 0.83560472, 0.83560472, 0.83560472,\n",
       "       0.83560472, 0.83560472, 0.83560472, 0.83560472, 0.83560472,\n",
       "       0.83560472, 0.83560472, 0.83560472, 0.83560472, 0.83560472,\n",
       "       0.83560472, 0.83560472, 0.83560472, 0.83560472, 0.83560472,\n",
       "       0.83560472, 0.83560472, 0.83560472, 0.83560472, 0.83560472,\n",
       "       0.83560472, 0.83560472, 0.83560472, 0.83560472, 0.83560472,\n",
       "       0.83560472, 0.83560472, 0.83560472, 0.83560472, 0.83560472,\n",
       "       0.83560472, 0.83560472, 0.83560472, 0.83560472, 0.83560472])"
      ]
     },
     "execution_count": 30,
     "metadata": {},
     "output_type": "execute_result"
    }
   ],
   "source": [
    "out_f1_values"
   ]
  },
  {
   "cell_type": "code",
   "execution_count": 31,
   "metadata": {},
   "outputs": [
    {
     "data": {
      "text/plain": [
       "[<matplotlib.lines.Line2D at 0x1179d7e48>]"
      ]
     },
     "execution_count": 31,
     "metadata": {},
     "output_type": "execute_result"
    },
    {
     "data": {
      "image/png": "[encoded data removed]",
      "text/plain": [
       "<Figure size 432x288 with 1 Axes>"
      ]
     },
     "metadata": {
      "needs_background": "light"
     },
     "output_type": "display_data"
    }
   ],
   "source": [
    "plt.plot(out_f1_values)"
   ]
  },
  {
   "cell_type": "code",
   "execution_count": 32,
   "metadata": {},
   "outputs": [],
   "source": [
    "r_values = np.random.choice(out_f1_values, 61, replace=False)"
   ]
  },
  {
   "cell_type": "code",
   "execution_count": 33,
   "metadata": {},
   "outputs": [
    {
     "data": {
      "text/plain": [
       "array([0.83560472, 0.83560472, 0.83560472, 0.83560472, 0.83560472,\n",
       "       0.83560472, 0.83560472, 0.83560472, 0.83560472, 0.83560472])"
      ]
     },
     "execution_count": 33,
     "metadata": {},
     "output_type": "execute_result"
    }
   ],
   "source": [
    "r_values[r_values > 0.83390239]"
   ]
  },
  {
   "cell_type": "code",
   "execution_count": 34,
   "metadata": {},
   "outputs": [
    {
     "data": {
      "text/plain": [
       "array([0.82800352, 0.8105899 , 0.83560472, 0.82823829, 0.80750988,\n",
       "       0.83390239, 0.81365949, 0.83560472, 0.81976757, 0.83560472,\n",
       "       0.83390239, 0.82800352, 0.79138203, 0.80739729, 0.8105899 ,\n",
       "       0.80990968, 0.82800352, 0.81622428, 0.81622428, 0.82800352,\n",
       "       0.81048593, 0.83390239, 0.81976757, 0.82823829, 0.80869565,\n",
       "       0.83560472, 0.81976757, 0.83560472, 0.83390239, 0.82823829,\n",
       "       0.81181327, 0.83560472, 0.82490084, 0.82582674, 0.81177273,\n",
       "       0.83390239, 0.81181327, 0.81976757, 0.81622428, 0.83390239,\n",
       "       0.81976757, 0.83560472, 0.83390239, 0.83390239, 0.81383531,\n",
       "       0.80507363, 0.78865938, 0.82800352, 0.81253712, 0.83390239,\n",
       "       0.83390239, 0.83560472, 0.83390239, 0.79143524, 0.83560472,\n",
       "       0.81986483, 0.8012156 , 0.83560472, 0.81310697, 0.79932021,\n",
       "       0.824117  ])"
      ]
     },
     "execution_count": 34,
     "metadata": {},
     "output_type": "execute_result"
    }
   ],
   "source": [
    "r_values"
   ]
  },
  {
   "cell_type": "code",
   "execution_count": 35,
   "metadata": {},
   "outputs": [
    {
     "data": {
      "text/plain": [
       "0.7056824255406972"
      ]
     },
     "execution_count": 35,
     "metadata": {},
     "output_type": "execute_result"
    }
   ],
   "source": [
    "scores = cross_val_score(best_clf_grid, X_train, Y_train, cv=5, scoring='f1_macro')\n",
    "scores.mean()"
   ]
  },
  {
   "cell_type": "code",
   "execution_count": 36,
   "metadata": {},
   "outputs": [
    {
     "name": "stdout",
     "output_type": "stream",
     "text": [
      "The training F1 Score is 0.8360902255639098\n",
      "The testing F1 Score is 0.8620689655172413\n"
     ]
    }
   ],
   "source": [
    "best_clf_grid.fit(X_train, Y_train)\n",
    "# Make predictions using the new model.\n",
    "best_train_predictions = best_clf_grid.predict(X_train)\n",
    "best_test_predictions = best_clf_grid.predict(X_test)\n",
    "\n",
    "# Calculate the f1_score of the new model.\n",
    "print('The training F1 Score is', f1_score(best_train_predictions, Y_train))\n",
    "print('The testing F1 Score is', f1_score(best_test_predictions, Y_test))"
   ]
  },
  {
   "cell_type": "code",
   "execution_count": 37,
   "metadata": {},
   "outputs": [
    {
     "name": "stdout",
     "output_type": "stream",
     "text": [
      "'generate_clf_from_search'  80.94 ms\n"
     ]
    }
   ],
   "source": [
    "best_clf_random, _, _ = generate_clf_from_search(\"Random\", \n",
    "                                           clf, \n",
    "                                           parameters, \n",
    "                                           scorer, \n",
    "                                           X_train, \n",
    "                                           Y_train)"
   ]
  },
  {
   "cell_type": "code",
   "execution_count": 38,
   "metadata": {},
   "outputs": [
    {
     "data": {
      "text/plain": [
       "0.7056824255406972"
      ]
     },
     "execution_count": 38,
     "metadata": {},
     "output_type": "execute_result"
    }
   ],
   "source": [
    "scores = cross_val_score(best_clf_random, X_train, Y_train, cv=5, scoring='f1_macro')\n",
    "scores.mean()"
   ]
  },
  {
   "cell_type": "code",
   "execution_count": 39,
   "metadata": {},
   "outputs": [
    {
     "name": "stdout",
     "output_type": "stream",
     "text": [
      "The training F1 Score is 0.8360902255639098\n",
      "The testing F1 Score is 0.8620689655172413\n"
     ]
    }
   ],
   "source": [
    "best_clf_random.fit(X_train, Y_train)\n",
    "# Make predictions using the new model.\n",
    "best_train_predictions = best_clf_random.predict(X_train)\n",
    "best_test_predictions = best_clf_random.predict(X_test)\n",
    "\n",
    "# Calculate the f1_score of the new model.\n",
    "print('The training F1 Score is', f1_score(best_train_predictions, Y_train))\n",
    "print('The testing F1 Score is', f1_score(best_test_predictions, Y_test))"
   ]
  },
  {
   "cell_type": "code",
   "execution_count": null,
   "metadata": {},
   "outputs": [],
   "source": []
  }
 ],
 "metadata": {
  "colab": {
   "name": "Decision_Tree_Hyperparameter.ipynb",
   "provenance": [],
   "version": "0.3.2"
  },
  "kernelspec": {
   "display_name": "Python 3",
   "language": "python",
   "name": "python3"
  },
  "language_info": {
   "codemirror_mode": {
    "name": "ipython",
    "version": 3
   },
   "file_extension": ".py",
   "mimetype": "text/x-python",
   "name": "python",
   "nbconvert_exporter": "python",
   "pygments_lexer": "ipython3",
   "version": "3.6.8"
  }
 },
 "nbformat": 4,
 "nbformat_minor": 1
}
